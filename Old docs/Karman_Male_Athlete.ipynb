{
 "cells": [
  {
   "cell_type": "markdown",
   "id": "296e760e-82ab-4051-9994-c74a8a93c64b",
   "metadata": {},
   "source": [
    "## Male Athlete"
   ]
  },
  {
   "cell_type": "markdown",
   "id": "020f4b94-b2e4-4b94-8184-314168bc07ad",
   "metadata": {},
   "source": [
    "* Male athletes who train for aerobic endurance need 0.8-1.4g/kg protein of body weight\n",
    "* Male athletes who train for strength need 1.0-3.0g/kg protein of body weight\n",
    "* Male athletes need anywhere from 5 to 10 g/kg of carbohydrates\n",
    "\n",
    "* Cardiovascular male athletes: 60% carbohydrates, 20% protein, and 20% fat \n",
    "* Weight training athletes: 45% carbohydrates, 30% protein, and 25% fat  \n",
    "* Both cardiovascular and weight training athlete: 55% carbohydrates, 25% protein, and 20% fat \n",
    "* 17-23 calories per pound of bodyweight to maintain body weight\n",
    "* 15 mg iron (recommended by the US Military & PMID: 24421690, currently 8g recommendation by USDA)\n",
    "\n",
    "\n",
    "Based on this information for a 175 pound male athlete: \n",
    "                   \n",
    "                   Total Calories: 3500 calories\n",
    "\n",
    "                   Carbohydrates: 481 grams\n",
    "\n",
    "                   Protein: 219 grams\n",
    "\n",
    "                   Fat: 78 grams\n",
    "\n",
    "                   Iron: 15 mg\n",
    "\n",
    "\n",
    "(https://www.ncbi.nlm.nih.gov/books/NBK209042/, https://www.todaysdietitian.com/newarchives/0619p32.shtml, https://dartmouthsports.com/sports/2019/3/18/210545801, https://pmc.ncbi.nlm.nih.gov/articles/PMC3805623/, PMID: 39683373)\n"
   ]
  },
  {
   "cell_type": "raw",
   "id": "db426bfc-8b84-4d00-9c62-80066e1aeb1a",
   "metadata": {},
   "source": [
    "\n",
    "\n"
   ]
  },
  {
   "cell_type": "code",
   "execution_count": null,
   "id": "c333d020-1821-4c00-a6ae-c7f90ae0b70b",
   "metadata": {},
   "outputs": [],
   "source": []
  }
 ],
 "metadata": {
  "kernelspec": {
   "display_name": "Python 3 (ipykernel)",
   "language": "python",
   "name": "python3"
  },
  "language_info": {
   "codemirror_mode": {
    "name": "ipython",
    "version": 3
   },
   "file_extension": ".py",
   "mimetype": "text/x-python",
   "name": "python",
   "nbconvert_exporter": "python",
   "pygments_lexer": "ipython3",
   "version": "3.11.11"
  }
 },
 "nbformat": 4,
 "nbformat_minor": 5
}
