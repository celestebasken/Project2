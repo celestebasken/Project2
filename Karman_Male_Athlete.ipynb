{
 "cells": [
  {
   "cell_type": "code",
   "execution_count": null,
   "id": "dbe2c459-5a57-4401-93be-8a06c8a64b8c",
   "metadata": {},
   "outputs": [],
   "source": [
    "## Male Athlete"
   ]
  },
  {
   "cell_type": "raw",
   "id": "52aa3c64-b2a4-4112-ae07-f7522d6830d1",
   "metadata": {},
   "source": [
    "Chronic Energy Deficits: Female athletes often experience chronic low energy availability (LEA), leading to conditions like relative energy deficiency in sport (RED-S), which impacts performance, bone density, menstrual health, and immune function. This is less emphasized in male athletes.\n",
    "\n",
    "Nutritional Interventions: There is a need for sex-specific nutritional strategies to address the unique challenges faced by female athletes, including managing energy deficits and supporting bone and reproductive health. Male athletes might focus more on macronutrient intake to maximize muscle synthesis and recovery.\n",
    "\n",
    "Protein and Amino Acid Needs: Female athletes may require adjusted protein doses and specific attention to amino acid intake to support muscle repair, recovery, and overall energy levels, particularly in endurance sports. Men, on the other hand, may benefit from higher protein doses due to differences in muscle protein synthesis influenced by hormonal factors like testosterone.\n",
    "\n",
    "For athletes, iron is crucial for oxygen transport to muscles through its role in hemoglobin, while sodium is vital for maintaining proper hydration, regulating muscle contractions, and nerve function, both playing significant roles in athletic performance and preventing fatigue during exercise. \n",
    "\n",
    "PMID: 39683373\n",
    "\n",
    "\n",
    "* Male athletes who train for aerobic endurance need 0.8-1.4g/kg protein of body weight\n",
    "* Male athletes who train for strength need 1.0-3.0g/kg protein of body weight\n",
    "* Male athletes need anywhere from 5 to 10 g/kg of carbohydrates\n",
    "\n",
    "* Cardiovascular male athletes: 60% carbohydrates, 20% protein, and 20% fat \n",
    "* Weight training athletes: 45% carbohydrates, 30% protein, and 25% fat  \n",
    "* Both cardiovascular and weight training athlete: 55% carbohydrates, 25% protein, and 20% fat \n",
    "* 17-23 calories per pound of bodyweight to maintain body weight\n",
    "* 15 mg iron (recommended by the US Military & PMID: 24421690, currently 8g recommendation by USDA)\n",
    "\n",
    "\n",
    "Based on this information for a 175 pound male athlete: \n",
    "Total Calories: 3500 calories\n",
    "Carbohydrates: 481 grams\n",
    "Protein: 219 grams\n",
    "Fat: 78 grams\n",
    "Iron: 15 mg\n",
    "\n",
    "\n",
    "https://www.ncbi.nlm.nih.gov/books/NBK209042/\n",
    "https://www.todaysdietitian.com/newarchives/0619p32.shtml\n",
    "https://dartmouthsports.com/sports/2019/3/18/210545801\n",
    "https://pmc.ncbi.nlm.nih.gov/articles/PMC3805623/\n"
   ]
  },
  {
   "cell_type": "raw",
   "id": "db426bfc-8b84-4d00-9c62-80066e1aeb1a",
   "metadata": {},
   "source": [
    "\n",
    "\n"
   ]
  }
 ],
 "metadata": {
  "kernelspec": {
   "display_name": "Python 3 (ipykernel)",
   "language": "python",
   "name": "python3"
  },
  "language_info": {
   "codemirror_mode": {
    "name": "ipython",
    "version": 3
   },
   "file_extension": ".py",
   "mimetype": "text/x-python",
   "name": "python",
   "nbconvert_exporter": "python",
   "pygments_lexer": "ipython3",
   "version": "3.11.11"
  }
 },
 "nbformat": 4,
 "nbformat_minor": 5
}
