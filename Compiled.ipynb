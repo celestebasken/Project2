{
 "cells": [
  {
   "cell_type": "markdown",
   "id": "dcdc4eb9-ca46-43ce-9aa9-e52ed7822da1",
   "metadata": {},
   "source": [
    "## Optimizing High-Endurance Performance: Budget Analysis for Vegans and Non-Vegans Aged 19-30\n",
    "# Team Sylvia Lane, Spring 2025"
   ]
  },
  {
   "cell_type": "markdown",
   "id": "9e68d6f5-e6fc-465a-aa5c-750a8e5c7776",
   "metadata": {},
   "source": [
    "Our project focused on the minimum cost diets for individuals 19-30 based on diet (vegan and non-vegan), sex (male and female), and athlete status (athlete and non-athlete). We used data about the cost of food in the US in order to get an understanding of how people across these categories could minimize the cost of their diets while meeting nutritional requirements.\n",
    "\n",
    "We began by identifying how the nutritional requirements for athletes (male and female) is different than for non-athletes. We also sorted all recipes and ingredients containing animal products out of the dataset in order to create options for vegan individuals. We generated diets for individuals in different categories, and then used the Consumer Price Index for different regions to approximate the actual cost of this diet in different regions.\n",
    "                                                                                                                                                                            # Goal: \n",
    "Identify minimum-cost diets that meet nutritional needs for individuals aged 19-30, considering dietary preference, sex, and athlete status. Using U.S. Consumer Price Index (CPI) data, our project aims to provide region-specific insights into affordable, nutritionally adequate diets.\n",
    "                                                                                                                                                                            Identify Nutritional Differences: Analyze how athletes' dietary needs differ from non-athletes based on their sex and nutritional requirements.\n",
    "Categorize Dietary Preferences: Sort and classify available food options to create vegan and non-vegan diet plans.\n",
    "Optimize for Cost: Construct the lowest-cost meal plans that meets the recommended dietary allowances (RDA).\n",
    "Regional Cost Variation: Utilize CPI data to approximate actual food costs in different U.S. regions.\n",
    "Ensure Nutritional Adequacy: Validate that the generated meal plans meet the macronutrient and micronutrient needs for vegans and non-vegans across different sexes. \n",
    "\n",
    "\n",
    "# Purpose: \n",
    "This project connects affordability and nutrition, providing cost-effective diets for diverse groups. It aids individuals in dietary choices, informs policy makers on food access, and supports economic and nutritional sustainability.\n",
    "\n"
   ]
  }
 ],
 "metadata": {
  "kernelspec": {
   "display_name": "Python 3 (ipykernel)",
   "language": "python",
   "name": "python3"
  },
  "language_info": {
   "codemirror_mode": {
    "name": "ipython",
    "version": 3
   },
   "file_extension": ".py",
   "mimetype": "text/x-python",
   "name": "python",
   "nbconvert_exporter": "python",
   "pygments_lexer": "ipython3",
   "version": "3.11.11"
  }
 },
 "nbformat": 4,
 "nbformat_minor": 5
}
