{
 "cells": [
  {
   "cell_type": "markdown",
   "id": "04f8b064-5b99-4ef2-a01d-a9a61bf9caeb",
   "metadata": {},
   "source": [
    "## Female Athlete Nutritional Requirements"
   ]
  },
  {
   "cell_type": "markdown",
   "id": "7ac09f4c-79b6-4b89-80c4-ae3d2e28c2dd",
   "metadata": {},
   "source": [
    "It is surprisingly difficult to find reliable information about the recommended nutrient intake for female athletes, possibly because most athlete nutritional studies are conducted on men.\n",
    "\n",
    "Basic research about endurance athletes:\n",
    "* In general, female endurance athletes need one gram of protein per pound of body weight per day for effective muscle repair, growth, and recovery.\n",
    "* During the strength and power phases of training, female athletes should aim for 1.0 to 1.2 grams of protein/pound.\n",
    "* For endurance phases, female athletes need 0.8 to 1.0 grams of protein per pound\n",
    "* For non-training or easy days, female athletes should take in about 0.75 to 0.8 grams of protein per pound\n",
    "\n",
    "Based on this information, we made the following changes to nutritional requirements between the typical USDA guidance and guidance for a female endurance athlete:\n",
    "* 80 grams of protein (instead of 46 g) based on the [Academy of Nutrition and Dietetics, Dietitians of Canada, and the American College of Sports Medicine](https://www.sciencedirect.com/science/article/pii/S221226721501802X?via%3Dihub)\n",
    "* 22 mg of iron (instead of 18 mg), based on [US Military Guidance](https://nap.nationalacademies.org/catalog/11610/mineral-requirements-for-military-personnel-levels-needed-for-cognitive-and)\n",
    "* 2745 g calories (instead of 2000) and 488 g of carbohydrates (instead of 130 g), based on [this NIH study, Recommendations for Healthy Nutrition in Female Endurance Runners](https://pmc.ncbi.nlm.nih.gov/articles/PMC4443719/)"
   ]
  },
  {
   "cell_type": "code",
   "execution_count": 2,
   "id": "21fe8230-4c96-45b6-857e-3865350bc29a",
   "metadata": {
    "collapsed": true,
    "jupyter": {
     "outputs_hidden": true
    }
   },
   "outputs": [
    {
     "name": "stdout",
     "output_type": "stream",
     "text": [
      "Requirement already satisfied: eep153_tools in /srv/conda/lib/python3.11/site-packages (0.12.4)\n",
      "Note: you may need to restart the kernel to use updated packages.\n",
      "Requirement already satisfied: python_gnupg in /srv/conda/lib/python3.11/site-packages (0.5.4)\n",
      "Note: you may need to restart the kernel to use updated packages.\n",
      "Requirement already satisfied: gspread_pandas in /srv/conda/lib/python3.11/site-packages (3.3.0)\n",
      "Requirement already satisfied: gspread<6,>=5.0.0 in /srv/conda/lib/python3.11/site-packages (from gspread_pandas) (5.12.4)\n",
      "Requirement already satisfied: pandas>=0.20.0 in /srv/conda/lib/python3.11/site-packages (from gspread_pandas) (2.2.3)\n",
      "Requirement already satisfied: decorator in /srv/conda/lib/python3.11/site-packages (from gspread_pandas) (5.1.1)\n",
      "Requirement already satisfied: google-auth in /srv/conda/lib/python3.11/site-packages (from gspread_pandas) (2.38.0)\n",
      "Requirement already satisfied: google-auth-oauthlib in /srv/conda/lib/python3.11/site-packages (from gspread_pandas) (1.2.1)\n",
      "Requirement already satisfied: cachetools<6.0,>=2.0.0 in /srv/conda/lib/python3.11/site-packages (from google-auth->gspread_pandas) (5.5.1)\n",
      "Requirement already satisfied: pyasn1-modules>=0.2.1 in /srv/conda/lib/python3.11/site-packages (from google-auth->gspread_pandas) (0.4.1)\n",
      "Requirement already satisfied: rsa<5,>=3.1.4 in /srv/conda/lib/python3.11/site-packages (from google-auth->gspread_pandas) (4.9)\n",
      "Requirement already satisfied: requests-oauthlib>=0.7.0 in /srv/conda/lib/python3.11/site-packages (from google-auth-oauthlib->gspread_pandas) (2.0.0)\n",
      "Requirement already satisfied: numpy>=1.23.2 in /srv/conda/lib/python3.11/site-packages (from pandas>=0.20.0->gspread_pandas) (2.2.3)\n",
      "Requirement already satisfied: python-dateutil>=2.8.2 in /srv/conda/lib/python3.11/site-packages (from pandas>=0.20.0->gspread_pandas) (2.9.0.post0)\n",
      "Requirement already satisfied: pytz>=2020.1 in /srv/conda/lib/python3.11/site-packages (from pandas>=0.20.0->gspread_pandas) (2024.1)\n",
      "Requirement already satisfied: tzdata>=2022.7 in /srv/conda/lib/python3.11/site-packages (from pandas>=0.20.0->gspread_pandas) (2025.1)\n",
      "Requirement already satisfied: pyasn1<0.7.0,>=0.4.6 in /srv/conda/lib/python3.11/site-packages (from pyasn1-modules>=0.2.1->google-auth->gspread_pandas) (0.6.1)\n",
      "Requirement already satisfied: six>=1.5 in /srv/conda/lib/python3.11/site-packages (from python-dateutil>=2.8.2->pandas>=0.20.0->gspread_pandas) (1.17.0)\n",
      "Requirement already satisfied: oauthlib>=3.0.0 in /srv/conda/lib/python3.11/site-packages (from requests-oauthlib>=0.7.0->google-auth-oauthlib->gspread_pandas) (3.2.2)\n",
      "Requirement already satisfied: requests>=2.0.0 in /srv/conda/lib/python3.11/site-packages (from requests-oauthlib>=0.7.0->google-auth-oauthlib->gspread_pandas) (2.32.3)\n",
      "Requirement already satisfied: charset_normalizer<4,>=2 in /srv/conda/lib/python3.11/site-packages (from requests>=2.0.0->requests-oauthlib>=0.7.0->google-auth-oauthlib->gspread_pandas) (3.4.0)\n",
      "Requirement already satisfied: idna<4,>=2.5 in /srv/conda/lib/python3.11/site-packages (from requests>=2.0.0->requests-oauthlib>=0.7.0->google-auth-oauthlib->gspread_pandas) (3.10)\n",
      "Requirement already satisfied: urllib3<3,>=1.21.1 in /srv/conda/lib/python3.11/site-packages (from requests>=2.0.0->requests-oauthlib>=0.7.0->google-auth-oauthlib->gspread_pandas) (2.3.0)\n",
      "Requirement already satisfied: certifi>=2017.4.17 in /srv/conda/lib/python3.11/site-packages (from requests>=2.0.0->requests-oauthlib>=0.7.0->google-auth-oauthlib->gspread_pandas) (2024.12.14)\n",
      "Note: you may need to restart the kernel to use updated packages.\n"
     ]
    }
   ],
   "source": [
    "# Initial set-ups\n",
    "\n",
    "%pip install eep153_tools\n",
    "%pip install python_gnupg\n",
    "%pip install -U gspread_pandas\n",
    "\n",
    "def format_id(id,zeropadding=0):\n",
    "    \"\"\"Nice string format for any id, string or numeric.\n",
    "\n",
    "    Optional zeropadding parameter takes an integer\n",
    "    formats as {id:0z} where\n",
    "    \"\"\"\n",
    "    if pd.isnull(id) or id in ['','.']: return None\n",
    "\n",
    "    try:  # If numeric, return as string int\n",
    "        return ('%d' % id).zfill(zeropadding)\n",
    "    except TypeError:  # Not numeric\n",
    "        return id.split('.')[0].strip().zfill(zeropadding)\n",
    "    except ValueError:\n",
    "        return None"
   ]
  },
  {
   "cell_type": "code",
   "execution_count": 3,
   "id": "dd53fc37-cca8-4ba1-b9c1-9ab8ce4a7a94",
   "metadata": {},
   "outputs": [],
   "source": [
    "import pandas as pd\n",
    "from eep153_tools.sheets import read_sheets\n",
    "data_url = \"https://docs.google.com/spreadsheets/d/1GTo423_gUJe1Von9jypWAbC0zSQ7WGegAWPuRi7eJAI/edit?gid=415594035#gid=415594035\""
   ]
  },
  {
   "cell_type": "code",
   "execution_count": 4,
   "id": "ec2e45e6-e77f-4cda-ac7d-9868054eded4",
   "metadata": {},
   "outputs": [
    {
     "data": {
      "text/plain": [
       "(Index(['Nutrient Type', 'Unit', 'Constraint Type', 'Female_19_30',\n",
       "        'Female_endurance', 'Male_19_30', 'Male_endurance'],\n",
       "       dtype='object'),\n",
       "               Nutrient Type  Unit Constraint Type  Female_19_30  \\\n",
       " Nutrient                                                          \n",
       " Energy                Macro  kcal             RDA        2000.0   \n",
       " Protein               Macro     g             RDA          46.0   \n",
       " Carbohydrate          Macro     g             RDA         130.0   \n",
       " Dietary Fiber         Macro     g             RDA          28.0   \n",
       " Linoleic Acid         Macro     g              AI          12.0   \n",
       " \n",
       "                Female_endurance  Male_19_30  Male_endurance  \n",
       " Nutrient                                                     \n",
       " Energy                   2800.0      2400.0          2700.0  \n",
       " Protein                    80.0        56.0             NaN  \n",
       " Carbohydrate              488.0       130.0             NaN  \n",
       " Dietary Fiber              28.0        33.6             NaN  \n",
       " Linoleic Acid              12.0        17.0             NaN  )"
      ]
     },
     "execution_count": 4,
     "metadata": {},
     "output_type": "execute_result"
    }
   ],
   "source": [
    "rda = read_sheets(data_url, sheet=\"rda\")\n",
    "\n",
    "rda = rda.set_index(\"Nutrient\")\n",
    "\n",
    "rda.columns, rda.head()"
   ]
  }
 ],
 "metadata": {
  "kernelspec": {
   "display_name": "Python 3 (ipykernel)",
   "language": "python",
   "name": "python3"
  },
  "language_info": {
   "codemirror_mode": {
    "name": "ipython",
    "version": 3
   },
   "file_extension": ".py",
   "mimetype": "text/x-python",
   "name": "python",
   "nbconvert_exporter": "python",
   "pygments_lexer": "ipython3",
   "version": "3.11.11"
  }
 },
 "nbformat": 4,
 "nbformat_minor": 5
}
