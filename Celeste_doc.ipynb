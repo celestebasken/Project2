{
 "cells": [
  {
   "cell_type": "markdown",
   "id": "04f8b064-5b99-4ef2-a01d-a9a61bf9caeb",
   "metadata": {},
   "source": [
    "## Female Athlete Nutritional Requirements"
   ]
  },
  {
   "cell_type": "markdown",
   "id": "7ac09f4c-79b6-4b89-80c4-ae3d2e28c2dd",
   "metadata": {},
   "source": [
    "It is surprisingly difficult to find reliable information about the recommended nutrient intake for female athletes, possibly because most athlete nutritional studies are conducted on men.\n",
    "\n",
    "Basic research about endurance athletes:\n",
    "* In general, female endurance athletes need one gram of protein per pound of body weight per day for effective muscle repair, growth, and recovery.\n",
    "* During the strength and power phases of training, female athletes should aim for 1.0 to 1.2 grams of protein/pound.\n",
    "* For endurance phases, female athletes need 0.8 to 1.0 grams of protein per pound\n",
    "* For non-training or easy days, female athletes should take in about 0.75 to 0.8 grams of protein per pound\n",
    "\n",
    "Based on this information, we made the following changes to nutritional requirements between the typical USDA guidance and guidance for a female endurance athlete:\n",
    "* 80 grams of protein (instead of 46 g) based on the [Academy of Nutrition and Dietetics, Dietitians of Canada, and the American College of Sports Medicine](https://www.sciencedirect.com/science/article/pii/S221226721501802X?via%3Dihub)\n",
    "* 22 mg of iron (instead of 18 mg), based on [US Military Guidance](https://nap.nationalacademies.org/catalog/11610/mineral-requirements-for-military-personnel-levels-needed-for-cognitive-and)\n",
    "* 2745 g calories (instead of 2000), 488 g of carbohydrates (instead of 130 g), and 25 mcg of Vitamin D (instead of 15), based on [this NIH study, Recommendations for Healthy Nutrition in Female Endurance Runners](https://pmc.ncbi.nlm.nih.gov/articles/PMC4443719/)"
   ]
  },
  {
   "cell_type": "code",
   "execution_count": 2,
   "id": "21fe8230-4c96-45b6-857e-3865350bc29a",
   "metadata": {
    "collapsed": true,
    "jupyter": {
     "outputs_hidden": true
    }
   },
   "outputs": [
    {
     "name": "stdout",
     "output_type": "stream",
     "text": [
      "Requirement already satisfied: eep153_tools in /srv/conda/lib/python3.11/site-packages (0.12.4)\n",
      "Note: you may need to restart the kernel to use updated packages.\n",
      "Requirement already satisfied: python_gnupg in /srv/conda/lib/python3.11/site-packages (0.5.4)\n",
      "Note: you may need to restart the kernel to use updated packages.\n",
      "Requirement already satisfied: gspread_pandas in /srv/conda/lib/python3.11/site-packages (3.3.0)\n",
      "Requirement already satisfied: gspread<6,>=5.0.0 in /srv/conda/lib/python3.11/site-packages (from gspread_pandas) (5.12.4)\n",
      "Requirement already satisfied: pandas>=0.20.0 in /srv/conda/lib/python3.11/site-packages (from gspread_pandas) (2.2.3)\n",
      "Requirement already satisfied: decorator in /srv/conda/lib/python3.11/site-packages (from gspread_pandas) (5.1.1)\n",
      "Requirement already satisfied: google-auth in /srv/conda/lib/python3.11/site-packages (from gspread_pandas) (2.38.0)\n",
      "Requirement already satisfied: google-auth-oauthlib in /srv/conda/lib/python3.11/site-packages (from gspread_pandas) (1.2.1)\n",
      "Requirement already satisfied: cachetools<6.0,>=2.0.0 in /srv/conda/lib/python3.11/site-packages (from google-auth->gspread_pandas) (5.5.1)\n",
      "Requirement already satisfied: pyasn1-modules>=0.2.1 in /srv/conda/lib/python3.11/site-packages (from google-auth->gspread_pandas) (0.4.1)\n",
      "Requirement already satisfied: rsa<5,>=3.1.4 in /srv/conda/lib/python3.11/site-packages (from google-auth->gspread_pandas) (4.9)\n",
      "Requirement already satisfied: requests-oauthlib>=0.7.0 in /srv/conda/lib/python3.11/site-packages (from google-auth-oauthlib->gspread_pandas) (2.0.0)\n",
      "Requirement already satisfied: numpy>=1.23.2 in /srv/conda/lib/python3.11/site-packages (from pandas>=0.20.0->gspread_pandas) (2.2.3)\n",
      "Requirement already satisfied: python-dateutil>=2.8.2 in /srv/conda/lib/python3.11/site-packages (from pandas>=0.20.0->gspread_pandas) (2.9.0.post0)\n",
      "Requirement already satisfied: pytz>=2020.1 in /srv/conda/lib/python3.11/site-packages (from pandas>=0.20.0->gspread_pandas) (2024.1)\n",
      "Requirement already satisfied: tzdata>=2022.7 in /srv/conda/lib/python3.11/site-packages (from pandas>=0.20.0->gspread_pandas) (2025.1)\n",
      "Requirement already satisfied: pyasn1<0.7.0,>=0.4.6 in /srv/conda/lib/python3.11/site-packages (from pyasn1-modules>=0.2.1->google-auth->gspread_pandas) (0.6.1)\n",
      "Requirement already satisfied: six>=1.5 in /srv/conda/lib/python3.11/site-packages (from python-dateutil>=2.8.2->pandas>=0.20.0->gspread_pandas) (1.17.0)\n",
      "Requirement already satisfied: oauthlib>=3.0.0 in /srv/conda/lib/python3.11/site-packages (from requests-oauthlib>=0.7.0->google-auth-oauthlib->gspread_pandas) (3.2.2)\n",
      "Requirement already satisfied: requests>=2.0.0 in /srv/conda/lib/python3.11/site-packages (from requests-oauthlib>=0.7.0->google-auth-oauthlib->gspread_pandas) (2.32.3)\n",
      "Requirement already satisfied: charset_normalizer<4,>=2 in /srv/conda/lib/python3.11/site-packages (from requests>=2.0.0->requests-oauthlib>=0.7.0->google-auth-oauthlib->gspread_pandas) (3.4.0)\n",
      "Requirement already satisfied: idna<4,>=2.5 in /srv/conda/lib/python3.11/site-packages (from requests>=2.0.0->requests-oauthlib>=0.7.0->google-auth-oauthlib->gspread_pandas) (3.10)\n",
      "Requirement already satisfied: urllib3<3,>=1.21.1 in /srv/conda/lib/python3.11/site-packages (from requests>=2.0.0->requests-oauthlib>=0.7.0->google-auth-oauthlib->gspread_pandas) (2.3.0)\n",
      "Requirement already satisfied: certifi>=2017.4.17 in /srv/conda/lib/python3.11/site-packages (from requests>=2.0.0->requests-oauthlib>=0.7.0->google-auth-oauthlib->gspread_pandas) (2024.12.14)\n",
      "Note: you may need to restart the kernel to use updated packages.\n"
     ]
    }
   ],
   "source": [
    "# Initial set-ups\n",
    "\n",
    "%pip install eep153_tools\n",
    "%pip install python_gnupg\n",
    "%pip install -U gspread_pandas\n",
    "#load in file from class, but our own version where we have added nutrition information for athletes\n",
    "def format_id(id,zeropadding=0):\n",
    "    \"\"\"Nice string format for any id, string or numeric.\n",
    "\n",
    "    Optional zeropadding parameter takes an integer\n",
    "    formats as {id:0z} where\n",
    "    \"\"\"\n",
    "    if pd.isnull(id) or id in ['','.']: return None\n",
    "\n",
    "    try:  # If numeric, return as string int\n",
    "        return ('%d' % id).zfill(zeropadding)\n",
    "    except TypeError:  # Not numeric\n",
    "        return id.split('.')[0].strip().zfill(zeropadding)\n",
    "    except ValueError:\n",
    "        return None"
   ]
  },
  {
   "cell_type": "code",
   "execution_count": 6,
   "id": "dd53fc37-cca8-4ba1-b9c1-9ab8ce4a7a94",
   "metadata": {},
   "outputs": [],
   "source": [
    "import pandas as pd\n",
    "import re \n",
    "from eep153_tools.sheets import read_sheets\n",
    "data_url_nutrients = \"https://docs.google.com/spreadsheets/d/1GTo423_gUJe1Von9jypWAbC0zSQ7WGegAWPuRi7eJAI/edit?gid=415594035#gid=415594035\""
   ]
  },
  {
   "cell_type": "code",
   "execution_count": 7,
   "id": "ec2e45e6-e77f-4cda-ac7d-9868054eded4",
   "metadata": {
    "collapsed": true,
    "jupyter": {
     "outputs_hidden": true
    }
   },
   "outputs": [
    {
     "data": {
      "text/plain": [
       "(Index(['Nutrient Type', 'Unit', 'Constraint Type', 'Female_19_30',\n",
       "        'Female_endurance', 'Male_19_30', 'Male_endurance'],\n",
       "       dtype='object'),\n",
       "               Nutrient Type  Unit Constraint Type  Female_19_30  \\\n",
       " Nutrient                                                          \n",
       " Energy                Macro  kcal             RDA        2000.0   \n",
       " Protein               Macro     g             RDA          46.0   \n",
       " Carbohydrate          Macro     g             RDA         130.0   \n",
       " Dietary Fiber         Macro     g             RDA          28.0   \n",
       " Linoleic Acid         Macro     g              AI          12.0   \n",
       " \n",
       "                Female_endurance  Male_19_30  Male_endurance  \n",
       " Nutrient                                                     \n",
       " Energy                   2800.0      2400.0          2700.0  \n",
       " Protein                    80.0        56.0             NaN  \n",
       " Carbohydrate              488.0       130.0           350.0  \n",
       " Dietary Fiber              28.0        33.6             NaN  \n",
       " Linoleic Acid              12.0        17.0             NaN  )"
      ]
     },
     "execution_count": 7,
     "metadata": {},
     "output_type": "execute_result"
    }
   ],
   "source": [
    "rda = read_sheets(data_url, sheet=\"rda\")\n",
    "\n",
    "rda = rda.set_index(\"Nutrient\")\n",
    "\n",
    "rda.columns, rda.head()"
   ]
  },
  {
   "cell_type": "markdown",
   "id": "562de9c4-2754-4319-8fae-3737ec35be28",
   "metadata": {},
   "source": [
    "## Copying Jack's code and trying to make a dietary recommendation!"
   ]
  },
  {
   "cell_type": "code",
   "execution_count": 8,
   "id": "cc5084df-8d4b-4695-ae89-ef4cbb89b24c",
   "metadata": {},
   "outputs": [
    {
     "data": {
      "text/html": [
       "<div>\n",
       "<style scoped>\n",
       "    .dataframe tbody tr th:only-of-type {\n",
       "        vertical-align: middle;\n",
       "    }\n",
       "\n",
       "    .dataframe tbody tr th {\n",
       "        vertical-align: top;\n",
       "    }\n",
       "\n",
       "    .dataframe thead th {\n",
       "        text-align: right;\n",
       "    }\n",
       "</style>\n",
       "<table border=\"1\" class=\"dataframe\">\n",
       "  <thead>\n",
       "    <tr style=\"text-align: right;\">\n",
       "      <th></th>\n",
       "      <th>parent_foodcode</th>\n",
       "      <th>recipe</th>\n",
       "      <th>ingred_code</th>\n",
       "      <th>ingred_desc</th>\n",
       "      <th>ingred_wt</th>\n",
       "    </tr>\n",
       "  </thead>\n",
       "  <tbody>\n",
       "    <tr>\n",
       "      <th>0</th>\n",
       "      <td>11340000</td>\n",
       "      <td>Imitation milk, non-soy, sweetened</td>\n",
       "      <td>43543</td>\n",
       "      <td>Milk, imitation, non-soy</td>\n",
       "      <td>100.0</td>\n",
       "    </tr>\n",
       "    <tr>\n",
       "      <th>1</th>\n",
       "      <td>11460150</td>\n",
       "      <td>Yogurt, frozen, NS as to flavor, lowfat milk</td>\n",
       "      <td>1298</td>\n",
       "      <td>Yogurt, frozen, flavors other than chocolate, ...</td>\n",
       "      <td>100.0</td>\n",
       "    </tr>\n",
       "    <tr>\n",
       "      <th>2</th>\n",
       "      <td>11460160</td>\n",
       "      <td>Yogurt, frozen, chocolate, lowfat milk</td>\n",
       "      <td>1117</td>\n",
       "      <td>Yogurt, plain, low fat, 12 grams protein per 8...</td>\n",
       "      <td>81.8</td>\n",
       "    </tr>\n",
       "    <tr>\n",
       "      <th>3</th>\n",
       "      <td>11460160</td>\n",
       "      <td>Yogurt, frozen, chocolate, lowfat milk</td>\n",
       "      <td>19166</td>\n",
       "      <td>Cocoa, dry powder, unsweetened, processed with...</td>\n",
       "      <td>5.2</td>\n",
       "    </tr>\n",
       "    <tr>\n",
       "      <th>4</th>\n",
       "      <td>11460160</td>\n",
       "      <td>Yogurt, frozen, chocolate, lowfat milk</td>\n",
       "      <td>19335</td>\n",
       "      <td>Sugars, granulated</td>\n",
       "      <td>13.0</td>\n",
       "    </tr>\n",
       "  </tbody>\n",
       "</table>\n",
       "</div>"
      ],
      "text/plain": [
       "  parent_foodcode                                        recipe ingred_code  \\\n",
       "0        11340000            Imitation milk, non-soy, sweetened       43543   \n",
       "1        11460150  Yogurt, frozen, NS as to flavor, lowfat milk        1298   \n",
       "2        11460160        Yogurt, frozen, chocolate, lowfat milk        1117   \n",
       "3        11460160        Yogurt, frozen, chocolate, lowfat milk       19166   \n",
       "4        11460160        Yogurt, frozen, chocolate, lowfat milk       19335   \n",
       "\n",
       "                                         ingred_desc  ingred_wt  \n",
       "0                           Milk, imitation, non-soy      100.0  \n",
       "1  Yogurt, frozen, flavors other than chocolate, ...      100.0  \n",
       "2  Yogurt, plain, low fat, 12 grams protein per 8...       81.8  \n",
       "3  Cocoa, dry powder, unsweetened, processed with...        5.2  \n",
       "4                                 Sugars, granulated       13.0  "
      ]
     },
     "execution_count": 8,
     "metadata": {},
     "output_type": "execute_result"
    }
   ],
   "source": [
    "#create recipes df\n",
    "recipes = read_sheets(data_url, sheet=\"recipes\")\n",
    "recipes = (recipes\n",
    "           .assign(parent_foodcode = lambda df: df[\"parent_foodcode\"].apply(format_id),\n",
    "                   ingred_code = lambda df: df[\"ingred_code\"].apply(format_id))\n",
    "           .rename(columns={\"parent_desc\": \"recipe\"}))\n",
    "recipes.head()\n",
    "#recipes.shape"
   ]
  },
  {
   "cell_type": "code",
   "execution_count": null,
   "id": "585470b2-3d87-4c76-8e86-1621c24c82fb",
   "metadata": {},
   "outputs": [],
   "source": [
    "#check the data types\n",
    "recipes.dtypes"
   ]
  },
  {
   "cell_type": "code",
   "execution_count": null,
   "id": "f7117f8a-0169-4fbc-aa3c-006f7983a55d",
   "metadata": {},
   "outputs": [],
   "source": [
    "#List of non-vegan keywords\n",
    "NON_VEGAN_KEYWORDS = [\n",
    "    \"beef\", \"pork\", \"chicken\", \"turkey\", \"fish\", \"seafood\", \"shellfish\", \"shrimp\", \"crab\",\"crabs\",\n",
    "    \"lamb\", \"goat\", \"duck\", \"goose\", \"tuna\", \"salmon\", \"cod\", \"bacon\", \"ham\",\n",
    "    \"shellfish\", \"lobster\", \"mussels\", \"oysters\", \"scallops\", \"octopus\", \"eel\",\n",
    "    \"organ meat\", \"milk\",\"Eggnog\" \"cheese\", \"butter\", \"cream\",\"ice cream\", \"yogurt\", \"whey\",\n",
    "    \"casein\", \"lactose\", \"ghee\", \"buttermilk\", \"egg\", \"eggs\", \"mayo\", \"mayonnaise\", \"albumen\",\n",
    "    \"albumin\", \"lysozyme\", \"ovomucoid\", \"ovomucin\", \"ovovitellin\", \"honey\",\n",
    "    \"bee pollen\", \"royal jelly\", \"propolis\", \"shellac\", \"confectioner’s glaze\",\n",
    "    \"carmine\", \"cochineal\", \"lard\", \"tallow\", \"suet\", \"gelatin\", \"collagen\",\n",
    "    \"isinglass\", \"bone broth\", \"bone stock\", \"fish sauce\", \"oyster sauce\",\n",
    "    \"shrimp paste\", \"worcestershire sauce\", \"anchovies\", \"rennet\", \"pepsin\",\n",
    "    \"bone char\", \"vitamin d3\", \"lanolin\", \"omega-3 fish oil\", \"caseinate\",\n",
    "    \"lecithin (egg)\", \"cysteine\", \"l-cysteine\", \"glycerin (animal)\",\n",
    "    \"glycerol (animal)\", \"stearic acid (animal)\", \"tallowate\", \"sodium tallowate\",\n",
    "    \"capric acid\", \"caprylic acid\"\n",
    "]\n",
    "\n",
    "#this partal match: \"milkshake\" or \"eggroll\" will get flagged (since \"milk\" or \"egg\" is in the keyword list).\n",
    "NON_VEGAN_PATTERN = re.compile(\n",
    "    '|'.join(map(re.escape, NON_VEGAN_KEYWORDS)),\n",
    "    re.IGNORECASE\n",
    ")\n",
    "\n",
    "\n",
    "def filter_vegan_ingredients(df: pd.DataFrame) -> pd.DataFrame:\n",
    "    \n",
    "    df[[\"recipe\", \"ingred_desc\"]] = df[[\"recipe\", \"ingred_desc\"]].astype(str)\n",
    "\n",
    "    \n",
    "    mask = ~(df[\"recipe\"].str.contains(NON_VEGAN_PATTERN, na=False, regex=True) |\n",
    "             df[\"ingred_desc\"].str.contains(NON_VEGAN_PATTERN, na=False, regex=True))\n",
    "    \n",
    "    return df[mask]"
   ]
  },
  {
   "cell_type": "code",
   "execution_count": null,
   "id": "885daf35-0b00-4ac2-919a-3338eab1487e",
   "metadata": {},
   "outputs": [],
   "source": [
    "vegan_recipes = filter_vegan_ingredients(recipes)\n",
    "vegan_recipes"
   ]
  },
  {
   "cell_type": "code",
   "execution_count": null,
   "id": "c9252469-bb6b-4db1-afef-eee5bbe0b235",
   "metadata": {},
   "outputs": [],
   "source": []
  }
 ],
 "metadata": {
  "kernelspec": {
   "display_name": "Python 3 (ipykernel)",
   "language": "python",
   "name": "python3"
  },
  "language_info": {
   "codemirror_mode": {
    "name": "ipython",
    "version": 3
   },
   "file_extension": ".py",
   "mimetype": "text/x-python",
   "name": "python",
   "nbconvert_exporter": "python",
   "pygments_lexer": "ipython3",
   "version": "3.11.11"
  }
 },
 "nbformat": 4,
 "nbformat_minor": 5
}
